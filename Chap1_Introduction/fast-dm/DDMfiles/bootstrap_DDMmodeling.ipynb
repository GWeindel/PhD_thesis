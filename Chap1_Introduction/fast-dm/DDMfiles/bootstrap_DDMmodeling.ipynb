{
 "cells": [
  {
   "cell_type": "code",
   "execution_count": 1,
   "metadata": {},
   "outputs": [
    {
     "name": "stderr",
     "output_type": "stream",
     "text": [
      "/home/gweindel/anaconda2/envs/future/lib/python3.5/importlib/_bootstrap.py:222: RuntimeWarning: numpy.dtype size changed, may indicate binary incompatibility. Expected 96, got 88\n",
      "  return f(*args, **kwds)\n",
      "/home/gweindel/anaconda2/envs/future/lib/python3.5/importlib/_bootstrap.py:222: RuntimeWarning: numpy.dtype size changed, may indicate binary incompatibility. Expected 96, got 88\n",
      "  return f(*args, **kwds)\n"
     ]
    },
    {
     "name": "stdout",
     "output_type": "stream",
     "text": [
      "0.08231342117598042\n",
      "0.2066038227175668\n",
      "-0.12429040154158638\n"
     ]
    }
   ],
   "source": [
    "import pandas as pd\n",
    "import matplotlib.pyplot as plt\n",
    "import numpy as np\n",
    "import glob, os\n",
    "\n",
    "data = pd.read_csv(\"../../Markers/MRK_ForceEMG_correct.csv\")\n",
    "trim = data[(data.trialType!=\"UT\") & (data.trialType!=\"NR\")].copy()\n",
    "pretrim = len(trim.reset_index().index)\n",
    "trim.drop(trim[((trim.rt  < trim.rt.median()) & (trim.MADrt >2))\n",
    "          | ((trim.rt  > trim.rt.median()) & (trim.MADrt >7))].index, inplace=True)\n",
    "trim.drop(trim[((trim.mt  < trim.mt.median()) & (trim.MADmt >2))\n",
    "          | ((trim.mt  > trim.mt.median()) & (trim.MADmt >7))].index, inplace=True)\n",
    "trim.drop(trim[((trim.prmt  < trim.prmt.median()) & (trim.MADprmt >2))\n",
    "          | ((trim.prmt  > trim.prmt.median()) & (trim.MADprmt >7))].index, inplace=True)\n",
    "trim = trim[~trim.prmt.isna()]#23 trials with na values for PMT, why ?\n",
    "trim.reset_index(inplace=True)\n",
    "#trim[\"original_contrast\"] = trim[\"contrast\"]\n",
    "#trim[\"contrast\"] = trim.apply(lambda row: 1 if row[\"contrast\"]== 1 or row[\"contrast\"]== 2 else \n",
    "#                              (2 if row[\"contrast\"]== 3 or row[\"contrast\"]== 4 else 3) , axis=1)\n",
    "\n",
    "print((len(data.index)-pretrim)/len(data.index))\n",
    "print((len(data.index)-len(trim.index))/len(data.index))\n",
    "print(((len(data.index)-pretrim)/len(data.index))-(len(data.index)-len(trim.index))/len(data.index))\n",
    "del data \n"
   ]
  },
  {
   "cell_type": "markdown",
   "metadata": {},
   "source": [
    "## Fitting Model"
   ]
  },
  {
   "cell_type": "markdown",
   "metadata": {},
   "source": [
    "Running script DDMfiles/DDMfit.py to generate estimated parameters (extremely slow, cell after this one collects results)"
   ]
  },
  {
   "cell_type": "code",
   "execution_count": 37,
   "metadata": {},
   "outputs": [],
   "source": [
    "import multiprocessing\n",
    "import FDM_functions_FC as fdm\n",
    "\n",
    "Fastdm_data = trim.copy()\n",
    "Fastdm_data['FC'] = Fastdm_data.apply(lambda row: 'one' if row['FC'] == 1 else 'two', axis=1)\n",
    "Fastdm_data = Fastdm_data.rename(columns = {'rt':'RT'})\n",
    "Fastdm_data = Fastdm_data[(Fastdm_data.trialType != 'NR') & (Fastdm_data.trialType != 'UT')].reset_index(drop=True)\n",
    "Fastdm_data.contrast = Fastdm_data.contrast.astype(str)\n",
    "Fastdm_data.response = Fastdm_data.response.astype(int)\n",
    "Fastdm_data = Fastdm_data[np.isfinite(Fastdm_data.prmt)]\n",
    "Fastdm_data['RT'] = Fastdm_data['RT'] / 1000\n",
    "\n",
    "Fastdm_data.drop(['index', 'Unnamed: 0', 'expdResp', 'trialType', \n",
    "       'nbrA', 'CA', 'IA', 'prmt', 'mt',\n",
    "       'Apmt', 'ErringTime', 'ForceTime', 'chanPR1', 'trial', 'givenResp',\n",
    "       'com', 'EMGtrial', 'MADrt', 'MADmt', 'MADprmt', 'bloc'], axis=1, inplace=True)\n",
    "\n",
    "precision = 2\n",
    "method = 'ks'#You can switch with ml, cs or ks\n",
    "\n",
    "Free = {\n",
    "    'v': ['SAT','FC',\"contrast\"],\n",
    "    't0':['SAT','FC',\"contrast\"],\n",
    "    'a':['SAT','FC']}\n",
    "\n",
    "Fixed = {'zr':0.5,\n",
    "         'szr':0, \n",
    "         'sv':0,\n",
    "         'p':0,\n",
    "         'd':0}"
   ]
  },
  {
   "cell_type": "code",
   "execution_count": 38,
   "metadata": {},
   "outputs": [],
   "source": [
    "boots =  np.empty([0, 6])\n",
    "nboot = 2\n",
    "n = 0\n",
    "id_sub = Fastdm_data.participant.unique()\n",
    "for sub in id_sub:\n",
    "    sub_dat = Fastdm_data[Fastdm_data.participant == sub]\n",
    "    while n != nboot: \n",
    "        newsub = sub + '-' + str(n)\n",
    "        newsub_dat = sub_dat.copy()\n",
    "        for cell, cell_dat in sub_dat.groupby(['SAT','FC','contrast']):\n",
    "            x_boots = cell_dat.copy().values\n",
    "            len_row = len(x_boots)\n",
    "            x_boots[:,0] = np.repeat(newsub, len_row)\n",
    "            x_boots = x_boots[np.random.randint(x_boots.shape[0], size=len_row), :] #bootstraping RT/precision cells\n",
    "            boots = np.concatenate((boots, x_boots), axis=0)\n",
    "        n += 1     \n",
    "boots = pd.DataFrame(boots, columns=[\"participant\", \"SAT\", \"FC\", \"contrast\", \"response\", \"RT\"])"
   ]
  },
  {
   "cell_type": "code",
   "execution_count": 40,
   "metadata": {},
   "outputs": [
    {
     "name": "stdout",
     "output_type": "stream",
     "text": [
      "Proceeding experiment_S10-0.ctl\n",
      "Proceeding experiment_S10-1.ctl\n"
     ]
    }
   ],
   "source": [
    "fdm.generate_files(boots, free = Free, fixed = Fixed, method=method, precision=precision)\n",
    "fdm.fit(nproc=multiprocessing.cpu_count()*2)\n",
    "pars = fdm.get_parameters()\n",
    "pars.to_csv('Bootstrap/fit_results_%s.csv'%n)\n",
    "for f in glob.glob(\"*.ctl\"):\n",
    "    os.remove(f)\n",
    "for f in glob.glob(\"*.lst\"):\n",
    "    os.remove(f)\n",
    "for f in glob.glob(\"data_*.csv\"):\n",
    "    os.remove(f)\n"
   ]
  },
  {
   "cell_type": "code",
   "execution_count": 6,
   "metadata": {},
   "outputs": [
    {
     "name": "stdout",
     "output_type": "stream",
     "text": [
      "Proceeding experiment_S1.ctl\n",
      "CPU times: user 92 ms, sys: 20 ms, total: 112 ms\n",
      "Wall time: 5.7 s\n"
     ]
    },
    {
     "name": "stderr",
     "output_type": "stream",
     "text": [
      "Process ForkPoolWorker-2:\n",
      "Traceback (most recent call last):\n",
      "  File \"/home/gweindel/anaconda2/envs/future/lib/python3.5/multiprocessing/process.py\", line 252, in _bootstrap\n",
      "    self.run()\n",
      "  File \"/home/gweindel/anaconda2/envs/future/lib/python3.5/multiprocessing/process.py\", line 93, in run\n",
      "    self._target(*self._args, **self._kwargs)\n",
      "  File \"/home/gweindel/anaconda2/envs/future/lib/python3.5/multiprocessing/pool.py\", line 108, in worker\n",
      "    task = get()\n",
      "  File \"/home/gweindel/anaconda2/envs/future/lib/python3.5/multiprocessing/queues.py\", line 335, in get\n",
      "    res = self._reader.recv_bytes()\n",
      "  File \"/home/gweindel/anaconda2/envs/future/lib/python3.5/multiprocessing/connection.py\", line 216, in recv_bytes\n",
      "    buf = self._recv_bytes(maxlength)\n",
      "  File \"/home/gweindel/anaconda2/envs/future/lib/python3.5/multiprocessing/connection.py\", line 407, in _recv_bytes\n",
      "    buf = self._recv(4)\n",
      "  File \"/home/gweindel/anaconda2/envs/future/lib/python3.5/multiprocessing/connection.py\", line 379, in _recv\n",
      "    chunk = read(handle, remaining)\n",
      "KeyboardInterrupt\n"
     ]
    }
   ],
   "source": [
    "%%time\n",
    "fdm.generate_files(Fastdm_data, free = Free, fixed = Fixed, method=method, precision=precision)\n",
    "fdm.fit(nproc=1)\n",
    "pars = fdm.get_parameters()\n",
    "pars.to_csv('fit_test.csv')"
   ]
  },
  {
   "cell_type": "code",
   "execution_count": 10,
   "metadata": {},
   "outputs": [
    {
     "name": "stdout",
     "output_type": "stream",
     "text": [
      "Proceeding experiment_S1.ctl\n",
      "CPU times: user 192 ms, sys: 68 ms, total: 260 ms\n",
      "Wall time: 1min 18s\n"
     ]
    },
    {
     "name": "stderr",
     "output_type": "stream",
     "text": [
      "Process ForkPoolWorker-5:\n",
      "Traceback (most recent call last):\n",
      "  File \"/home/gweindel/anaconda2/envs/future/lib/python3.5/multiprocessing/process.py\", line 252, in _bootstrap\n",
      "    self.run()\n",
      "  File \"/home/gweindel/anaconda2/envs/future/lib/python3.5/multiprocessing/process.py\", line 93, in run\n",
      "    self._target(*self._args, **self._kwargs)\n",
      "  File \"/home/gweindel/anaconda2/envs/future/lib/python3.5/multiprocessing/pool.py\", line 108, in worker\n",
      "    task = get()\n",
      "  File \"/home/gweindel/anaconda2/envs/future/lib/python3.5/multiprocessing/queues.py\", line 335, in get\n",
      "    res = self._reader.recv_bytes()\n",
      "  File \"/home/gweindel/anaconda2/envs/future/lib/python3.5/multiprocessing/connection.py\", line 216, in recv_bytes\n",
      "    buf = self._recv_bytes(maxlength)\n",
      "  File \"/home/gweindel/anaconda2/envs/future/lib/python3.5/multiprocessing/connection.py\", line 407, in _recv_bytes\n",
      "    buf = self._recv(4)\n",
      "  File \"/home/gweindel/anaconda2/envs/future/lib/python3.5/multiprocessing/connection.py\", line 379, in _recv\n",
      "    chunk = read(handle, remaining)\n",
      "KeyboardInterrupt\n"
     ]
    }
   ],
   "source": [
    "%%time\n",
    "fdm.generate_files(Fastdm_data, free = Free, fixed = Fixed, method=method, precision=precision)\n",
    "fdm.fit(nproc=1)\n",
    "pars = fdm.get_parameters()\n",
    "pars.to_csv('fit_test.csv')"
   ]
  },
  {
   "cell_type": "code",
   "execution_count": null,
   "metadata": {},
   "outputs": [],
   "source": []
  }
 ],
 "metadata": {
  "kernelspec": {
   "display_name": "Python 3",
   "language": "python",
   "name": "python3"
  },
  "language_info": {
   "codemirror_mode": {
    "name": "ipython",
    "version": 3
   },
   "file_extension": ".py",
   "mimetype": "text/x-python",
   "name": "python",
   "nbconvert_exporter": "python",
   "pygments_lexer": "ipython3",
   "version": "3.8.1"
  }
 },
 "nbformat": 4,
 "nbformat_minor": 4
}
