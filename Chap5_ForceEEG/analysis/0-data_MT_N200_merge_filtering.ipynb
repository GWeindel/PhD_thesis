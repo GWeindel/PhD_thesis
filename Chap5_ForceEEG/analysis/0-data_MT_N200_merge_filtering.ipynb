{
 "cells": [
  {
   "cell_type": "code",
   "execution_count": 1,
   "metadata": {},
   "outputs": [],
   "source": [
    "import pandas as pd\n",
    "import seaborn as sns\n",
    "import os\n",
    "import numpy as np"
   ]
  },
  {
   "cell_type": "code",
   "execution_count": 2,
   "metadata": {},
   "outputs": [],
   "source": [
    "path_to_N200 = '../processing_EEG/N200_estimates/N200_single_trial/'\n",
    "list_dir = os.listdir(path_to_N200)\n",
    "list_ = []\n",
    "for f in list_dir:\n",
    "    df_ = pd.read_table(path_to_N200+f, header=0, sep=',',index_col=0)\n",
    "    df_['participant'] = f.split('_')[0]\n",
    "    list_.append(df_)\n",
    "df = pd.concat(list_, ignore_index=True)"
   ]
  },
  {
   "cell_type": "code",
   "execution_count": 3,
   "metadata": {},
   "outputs": [],
   "source": [
    "EMG_df = pd.read_csv('../processing_EMG/clean_df.csv')"
   ]
  },
  {
   "cell_type": "code",
   "execution_count": 8,
   "metadata": {},
   "outputs": [],
   "source": [
    "## Fix the wrong labeling\n",
    "df.SAT = df.apply(lambda row: 'accuracy' if row['expdResp'] == 'accuracy' else row['SAT'], axis = 1)\n",
    "df.expdResp = df.apply(lambda row: 'right' if row['expdResp'] == 'accuracy' else row['expdResp'], axis = 1)\n",
    "df.FC = df.apply(lambda row: 2.0 if row['FC'] == 'high' else 1.0, axis = 1)"
   ]
  },
  {
   "cell_type": "code",
   "execution_count": 9,
   "metadata": {},
   "outputs": [],
   "source": [
    "## Fix the trial ordering problem after merging the two .bdf during EMG extraction files for S3\n",
    "EMG_df.loc[EMG_df.participant == \"S3\", 'trial'] =  np.append(np.linspace(533, 2439, 2440-533),np.linspace(0,532, 533))"
   ]
  },
  {
   "cell_type": "code",
   "execution_count": 10,
   "metadata": {},
   "outputs": [],
   "source": [
    "data = pd.merge(df, EMG_df, on=['participant','trial','SAT','expdResp','contrast','FC'])"
   ]
  },
  {
   "cell_type": "code",
   "execution_count": 11,
   "metadata": {},
   "outputs": [
    {
     "data": {
      "text/plain": [
       "0.059122132457769906"
      ]
     },
     "execution_count": 11,
     "metadata": {},
     "output_type": "execute_result"
    }
   ],
   "source": [
    "(len(EMG_df)- len(data))/len(EMG_df)# Difference between both datasets = EEG artifacts"
   ]
  },
  {
   "cell_type": "code",
   "execution_count": 12,
   "metadata": {},
   "outputs": [
    {
     "data": {
      "text/plain": [
       "43557"
      ]
     },
     "execution_count": 12,
     "metadata": {},
     "output_type": "execute_result"
    }
   ],
   "source": [
    "len(data)"
   ]
  },
  {
   "cell_type": "code",
   "execution_count": 13,
   "metadata": {},
   "outputs": [],
   "source": [
    "data_full = data.copy()\n",
    "data.to_csv('df_full.csv')"
   ]
  },
  {
   "cell_type": "code",
   "execution_count": 14,
   "metadata": {},
   "outputs": [
    {
     "data": {
      "text/html": [
       "<div>\n",
       "<style scoped>\n",
       "    .dataframe tbody tr th:only-of-type {\n",
       "        vertical-align: middle;\n",
       "    }\n",
       "\n",
       "    .dataframe tbody tr th {\n",
       "        vertical-align: top;\n",
       "    }\n",
       "\n",
       "    .dataframe thead th {\n",
       "        text-align: right;\n",
       "    }\n",
       "</style>\n",
       "<table border=\"1\" class=\"dataframe\">\n",
       "  <thead>\n",
       "    <tr style=\"text-align: right;\">\n",
       "      <th></th>\n",
       "      <th>FC</th>\n",
       "      <th>SAT</th>\n",
       "      <th>expdResp</th>\n",
       "      <th>contrast</th>\n",
       "      <th>N200</th>\n",
       "      <th>trial</th>\n",
       "      <th>participant</th>\n",
       "      <th>Unnamed: 0</th>\n",
       "      <th>givenResp</th>\n",
       "      <th>response</th>\n",
       "      <th>rt</th>\n",
       "      <th>prmt</th>\n",
       "      <th>mt</th>\n",
       "      <th>trialType</th>\n",
       "      <th>EMG_sequence</th>\n",
       "    </tr>\n",
       "  </thead>\n",
       "  <tbody>\n",
       "    <tr>\n",
       "      <th>0</th>\n",
       "      <td>1.0</td>\n",
       "      <td>accuracy</td>\n",
       "      <td>right</td>\n",
       "      <td>3</td>\n",
       "      <td>234.0</td>\n",
       "      <td>0</td>\n",
       "      <td>S10</td>\n",
       "      <td>2448</td>\n",
       "      <td>right</td>\n",
       "      <td>1</td>\n",
       "      <td>733.398438</td>\n",
       "      <td>631.835935</td>\n",
       "      <td>101.562503</td>\n",
       "      <td>SA</td>\n",
       "      <td>CR</td>\n",
       "    </tr>\n",
       "    <tr>\n",
       "      <th>1</th>\n",
       "      <td>1.0</td>\n",
       "      <td>accuracy</td>\n",
       "      <td>right</td>\n",
       "      <td>1</td>\n",
       "      <td>133.0</td>\n",
       "      <td>1</td>\n",
       "      <td>S10</td>\n",
       "      <td>2449</td>\n",
       "      <td>right</td>\n",
       "      <td>1</td>\n",
       "      <td>597.656250</td>\n",
       "      <td>508.789067</td>\n",
       "      <td>88.867183</td>\n",
       "      <td>SA</td>\n",
       "      <td>CR</td>\n",
       "    </tr>\n",
       "    <tr>\n",
       "      <th>2</th>\n",
       "      <td>1.0</td>\n",
       "      <td>accuracy</td>\n",
       "      <td>right</td>\n",
       "      <td>1</td>\n",
       "      <td>168.0</td>\n",
       "      <td>2</td>\n",
       "      <td>S10</td>\n",
       "      <td>2450</td>\n",
       "      <td>right</td>\n",
       "      <td>1</td>\n",
       "      <td>531.250000</td>\n",
       "      <td>458.007810</td>\n",
       "      <td>73.242190</td>\n",
       "      <td>SA</td>\n",
       "      <td>CR</td>\n",
       "    </tr>\n",
       "    <tr>\n",
       "      <th>3</th>\n",
       "      <td>1.0</td>\n",
       "      <td>accuracy</td>\n",
       "      <td>left</td>\n",
       "      <td>1</td>\n",
       "      <td>143.0</td>\n",
       "      <td>3</td>\n",
       "      <td>S10</td>\n",
       "      <td>2451</td>\n",
       "      <td>left</td>\n",
       "      <td>1</td>\n",
       "      <td>502.929688</td>\n",
       "      <td>430.664065</td>\n",
       "      <td>72.265622</td>\n",
       "      <td>SA</td>\n",
       "      <td>CR</td>\n",
       "    </tr>\n",
       "    <tr>\n",
       "      <th>4</th>\n",
       "      <td>1.0</td>\n",
       "      <td>accuracy</td>\n",
       "      <td>left</td>\n",
       "      <td>3</td>\n",
       "      <td>161.0</td>\n",
       "      <td>4</td>\n",
       "      <td>S10</td>\n",
       "      <td>2452</td>\n",
       "      <td>left</td>\n",
       "      <td>1</td>\n",
       "      <td>984.375000</td>\n",
       "      <td>893.554690</td>\n",
       "      <td>90.820310</td>\n",
       "      <td>SA</td>\n",
       "      <td>CR</td>\n",
       "    </tr>\n",
       "  </tbody>\n",
       "</table>\n",
       "</div>"
      ],
      "text/plain": [
       "    FC       SAT expdResp  contrast   N200  trial participant  Unnamed: 0  \\\n",
       "0  1.0  accuracy    right         3  234.0      0         S10        2448   \n",
       "1  1.0  accuracy    right         1  133.0      1         S10        2449   \n",
       "2  1.0  accuracy    right         1  168.0      2         S10        2450   \n",
       "3  1.0  accuracy     left         1  143.0      3         S10        2451   \n",
       "4  1.0  accuracy     left         3  161.0      4         S10        2452   \n",
       "\n",
       "  givenResp  response          rt        prmt          mt trialType  \\\n",
       "0     right         1  733.398438  631.835935  101.562503        SA   \n",
       "1     right         1  597.656250  508.789067   88.867183        SA   \n",
       "2     right         1  531.250000  458.007810   73.242190        SA   \n",
       "3      left         1  502.929688  430.664065   72.265622        SA   \n",
       "4      left         1  984.375000  893.554690   90.820310        SA   \n",
       "\n",
       "  EMG_sequence  \n",
       "0           CR  \n",
       "1           CR  \n",
       "2           CR  \n",
       "3           CR  \n",
       "4           CR  "
      ]
     },
     "execution_count": 14,
     "metadata": {},
     "output_type": "execute_result"
    }
   ],
   "source": [
    "data.head()"
   ]
  },
  {
   "cell_type": "markdown",
   "metadata": {},
   "source": [
    "Computing decision time"
   ]
  },
  {
   "cell_type": "code",
   "execution_count": 15,
   "metadata": {},
   "outputs": [],
   "source": [
    "data['dt'] = data['prmt'] - data['N200']"
   ]
  },
  {
   "cell_type": "markdown",
   "metadata": {},
   "source": [
    "Checking rejection criterion"
   ]
  },
  {
   "cell_type": "code",
   "execution_count": 16,
   "metadata": {},
   "outputs": [
    {
     "name": "stdout",
     "output_type": "stream",
     "text": [
      "470\n",
      "0.010790458479693276\n"
     ]
    }
   ],
   "source": [
    "print(len(data[data.rt > 1500].trial))#PMT over 1.5s\n",
    "print(len(data[data.rt > 1500].trial)/len(data.trial) )"
   ]
  },
  {
   "cell_type": "code",
   "execution_count": 17,
   "metadata": {},
   "outputs": [
    {
     "name": "stdout",
     "output_type": "stream",
     "text": [
      "1642\n",
      "0.03769772941203481\n"
     ]
    }
   ],
   "source": [
    "print(len(data[data.trialType == \"UT\"].trial))#EMG unmarked trial (e.g. tonic noise)\n",
    "print(len(data[data.trialType == \"UT\"].trial)/len(data.trial) )"
   ]
  },
  {
   "cell_type": "code",
   "execution_count": 18,
   "metadata": {},
   "outputs": [
    {
     "name": "stdout",
     "output_type": "stream",
     "text": [
      "7039\n",
      "0.1616043345501297\n"
     ]
    }
   ],
   "source": [
    "print(len(data[data.trialType == \"MA\"].trial))#Multiple activity trials\n",
    "print(len(data[data.trialType == \"MA\"].trial)/len(data.trial) )"
   ]
  },
  {
   "cell_type": "code",
   "execution_count": 19,
   "metadata": {},
   "outputs": [
    {
     "name": "stdout",
     "output_type": "stream",
     "text": [
      "9823\n",
      "0.22552058222558946\n"
     ]
    }
   ],
   "source": [
    "print(len(data[~np.isfinite(data.N200)].trial))#N200 not at window boundaries\n",
    "print(len(data[~np.isfinite(data.N200)].trial)/len(data.trial) )"
   ]
  },
  {
   "cell_type": "code",
   "execution_count": 20,
   "metadata": {},
   "outputs": [
    {
     "name": "stdout",
     "output_type": "stream",
     "text": [
      "1775\n",
      "0.04075119957756503\n"
     ]
    }
   ],
   "source": [
    "print(len(data[data.dt <= 0].trial))#Negative decision time\n",
    "print(len(data[data.dt <= 0].trial)/len(data.trial) )"
   ]
  },
  {
   "cell_type": "code",
   "execution_count": 21,
   "metadata": {},
   "outputs": [
    {
     "data": {
      "text/plain": [
       "0.5521126760563381"
      ]
     },
     "execution_count": 21,
     "metadata": {},
     "output_type": "execute_result"
    }
   ],
   "source": [
    "data[data.dt <= 0].response.mean()#Computing accuracy for negative DT trials"
   ]
  },
  {
   "cell_type": "markdown",
   "metadata": {},
   "source": [
    "## Applying criteria"
   ]
  },
  {
   "cell_type": "code",
   "execution_count": 35,
   "metadata": {},
   "outputs": [],
   "source": [
    "data = data[data.rt <= 1500]\n",
    "data = data[(data.trialType == 'SA')]\n",
    "data = data[np.isfinite(data.N200)]\n",
    "data = data[data.dt > 0].reset_index(drop=True)"
   ]
  },
  {
   "cell_type": "code",
   "execution_count": 36,
   "metadata": {},
   "outputs": [
    {
     "name": "stdout",
     "output_type": "stream",
     "text": [
      "25288\n",
      "0.543687650498796\n"
     ]
    }
   ],
   "source": [
    "print(len(data.trial))\n",
    "print(len(data.trial)/(2448*19))"
   ]
  },
  {
   "cell_type": "code",
   "execution_count": 38,
   "metadata": {},
   "outputs": [],
   "source": [
    "data.to_csv('data_modelling_ready.csv')"
   ]
  }
 ],
 "metadata": {
  "kernelspec": {
   "display_name": "Python 3",
   "language": "python",
   "name": "python3"
  },
  "language_info": {
   "codemirror_mode": {
    "name": "ipython",
    "version": 3
   },
   "file_extension": ".py",
   "mimetype": "text/x-python",
   "name": "python",
   "nbconvert_exporter": "python",
   "pygments_lexer": "ipython3",
   "version": "3.8.5"
  }
 },
 "nbformat": 4,
 "nbformat_minor": 4
}
