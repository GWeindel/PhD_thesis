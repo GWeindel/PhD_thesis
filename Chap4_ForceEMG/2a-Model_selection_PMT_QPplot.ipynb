{
 "cells": [
  {
   "cell_type": "code",
   "execution_count": 1,
   "metadata": {},
   "outputs": [
    {
     "name": "stderr",
     "output_type": "stream",
     "text": [
      "/home/gabriel/anaconda3/envs/hddm/lib/python2.7/site-packages/IPython/parallel.py:13: ShimWarning: The `IPython.parallel` package has been deprecated since IPython 4.0. You should import from ipyparallel instead.\n",
      "  \"You should import from ipyparallel instead.\", ShimWarning)\n"
     ]
    }
   ],
   "source": [
    "#import scipy.stats as spss\n",
    "#import seaborn as sns\n",
    "import matplotlib.pyplot as plt\n",
    "import numpy as np\n",
    "import glob,os\n",
    "import pandas as pd\n",
    "import hddm\n",
    "from kabuki import utils\n",
    "import gc\n",
    "\n",
    "\n",
    "plt.style.use('seaborn-ticks')\n",
    "PMTdata = pd.read_csv('DDM/dataHDDM_pmt.csv')"
   ]
  },
  {
   "cell_type": "code",
   "execution_count": 2,
   "metadata": {},
   "outputs": [],
   "source": [
    "PMTdata.response =  PMTdata.apply(lambda x: 1 if x[\"stim\"]==x[\"response\"] else 0, axis=1)\n",
    "PMTdata.rt = PMTdata.rt*1000"
   ]
  },
  {
   "cell_type": "code",
   "execution_count": 3,
   "metadata": {},
   "outputs": [],
   "source": [
    "def QPplot(data, syndata, name, variable=\"PMT\"): #Rather slow...\n",
    "    fig, ax = plt.subplots(2,1, figsize=[5,7], dpi=300)\n",
    "    for SAT, SAT_dat in data.groupby('SAT'):\n",
    "        Prec, RTQuantiles, subject, contrast = [],[],[],[]\n",
    "        meanPrec, meanRT,synmeanPrec, synmeanRT = [],[],[],[]\n",
    "        meanRT_sub, meanPrec_sub,synmeanRT_sub, synmeanPrec_sub = [],[],[],[]\n",
    "        for participant, part_dat in SAT_dat.groupby('participant'):    \n",
    "            con_meanRT, con_meanPrec,syncon_meanRT, syncon_meanPrec = [],[],[],[]\n",
    "            for con, con_dat in SAT_dat.groupby(\"contrast\"):\n",
    "                corr_meanRT, corr_meanPrec,syncorr_meanRT, syncorr_meanPrec = [],[],[],[]\n",
    "                for corr, corr_dat in con_dat.groupby(\"response\"):\n",
    "                    corr_meanRT.append(corr_dat.rt.quantile([.1,.3,.5,.6,.9]).values)\n",
    "                    corr_meanPrec.append(np.repeat(float(len(corr_dat.response))/len(con_dat),5))\n",
    "                    syn_subset = syndata[(syndata.contrast == con) & (syndata.SAT == SAT)]\n",
    "                    syncorr_meanRT.append(syn_subset[syn_subset.response == corr].groupby('sample').rt.quantile([.1, .3,.5,.6,.9]))\n",
    "                    syncorr_meanPrec.append(np.repeat(syn_subset[syn_subset.response == corr].groupby('sample').response.count()/syn_subset.groupby('sample').response.count(),5))\n",
    "                con_meanRT.append(corr_meanRT)\n",
    "                con_meanPrec.append(corr_meanPrec)\n",
    "                syncon_meanRT.append(syncorr_meanRT)\n",
    "                syncon_meanPrec.append(syncorr_meanPrec)\n",
    "            meanRT_sub.append(con_meanRT)\n",
    "            meanPrec_sub.append(con_meanPrec)\n",
    "            synmeanRT_sub.append(syncon_meanRT)\n",
    "            synmeanPrec_sub.append(syncon_meanPrec)\n",
    "\n",
    "        meanRT.append([np.mean(meanRT_sub, axis=0)])\n",
    "        meanPrec.append([np.mean(meanPrec_sub, axis=0)])\n",
    "        meanRT, meanPrec = np.asarray(meanRT[0][0]), np.asarray(meanPrec[0][0])\n",
    "\n",
    "        synmeanRT.append([np.mean(synmeanRT_sub, axis=0)])\n",
    "        synmeanPrec.append([np.mean(synmeanPrec_sub, axis=0)])\n",
    "        synmeanRT, synmeanPrec = np.asarray(synmeanRT[0][0]),np.asarray(synmeanPrec[0][0])\n",
    "\n",
    "        if SAT ==\"Accuracy\":\n",
    "            curax = ax[0]\n",
    "        else:\n",
    "            curax = ax[1]\n",
    "\n",
    "        ys = synmeanRT\n",
    "        colors =  plt.cm.Set3.colors[:6]\n",
    "        i = 0\n",
    "        for y in ys:\n",
    "            curax.scatter(synmeanPrec[i].flatten(), y.flatten(), marker=\".\", alpha=.2, color=colors[i])\n",
    "            curax.plot(meanPrec[i].flatten(),meanRT[i].flatten(), 'x', color=\"k\")\n",
    "            i += 1\n",
    "\n",
    "        if curax==ax[1]:\n",
    "            curax.set_xlabel(\"Response proportion\")\n",
    "        curax.set_ylabel(\"%s quantiles (ms)\"%variable)\n",
    "        curax.set_xlim(0,1)\n",
    "        curax.vlines(.5,0,2000,linestyle=':')\n",
    "\n",
    "        if SAT == \"Accuracy\":\n",
    "            curax.annotate('Correct', xy=(.9, 1200), xytext=(.51,1200),\n",
    "                         arrowprops={'arrowstyle': '->'}, va='center')\n",
    "            curax.annotate('Errors', xy=(.1, 1200), xytext=(.38,1200),\n",
    "                         arrowprops={'arrowstyle': '->'}, va='center')\n",
    "            curax.plot( [0,0],  [0,0],'x', label=\"Data\", color='k')\n",
    "            curax.plot( [0,0],  [0,0],'.', label=\"Model\", color='gray', markerfacecolor=\"w\", markeredgecolor=\"gray\", alpha=.2)\n",
    "            curax.legend(loc='upper right', bbox_to_anchor=(1, 0.9))\n",
    "            curax.set_title('%s'%name)\n",
    "            curax.set_ylim([250, 1300])\n",
    "        else : \n",
    "            curax.set_ylim([150, 850])\n",
    "    plt.tight_layout()\n",
    "    plt.savefig('DDM/QPplot/%s.png'%name)\n",
    "    plt.show() \n"
   ]
  },
  {
   "cell_type": "code",
   "execution_count": 4,
   "metadata": {},
   "outputs": [],
   "source": [
    "def generate_predictions(fit, pathname, n_samples=250):\n",
    "        gen_data = hddm.utils.post_pred_gen(fit, samples=n_samples)\n",
    "        gen_data.reset_index(inplace=True)\n",
    "        gen_data.rt = np.abs(gen_data.rt)*1000\n",
    "        gen_data[[\"FC\",\"SAT\",\"contrast\",\"expdResp\",\"participant\"]] = gen_data['node'].str.split('.', expand=True)\n",
    "        gen_data.contrast = [float(\"0.\"+x) for x in gen_data.contrast]\n",
    "        gen_data.expdResp = gen_data.apply(lambda x: \"Left\" if x[\"expdResp\"]==\"0)\" else \"Right\", axis=1)\n",
    "        gen_data.FC = [x[5:] for x in gen_data.FC]\n",
    "        gen_data[\"givenResp\"] = gen_data.apply(lambda x: \"Left\" if x[\"response\"]==0 else \"Right\", axis=1)\n",
    "        gen_data.response = gen_data.apply(lambda x: 1 if x[\"givenResp\"]==x[\"expdResp\"] else 0, axis=1)\n",
    "        gen_data.contrast = gen_data.contrast.replace(gen_data.contrast.unique(), PMTdata.contrast.unique())\n",
    "        gen_data.contrast = [int(x) for x in gen_data.contrast]\n",
    "        gen_data.to_csv(pathname)\n",
    "        return gen_data"
   ]
  },
  {
   "cell_type": "markdown",
   "metadata": {},
   "source": [
    "## GRaphing QPplot, computing DIC and BPIC"
   ]
  },
  {
   "cell_type": "code",
   "execution_count": 5,
   "metadata": {},
   "outputs": [
    {
     "name": "stdout",
     "output_type": "stream",
     "text": [
      "________________________________\n",
      " Model M13 : \n",
      "\n",
      "WARNING: Custom link functions will not be loaded.\n"
     ]
    },
    {
     "ename": "IOError",
     "evalue": "[Errno 2] No such file or directory: 'DDM/traces/db_reg_PMT_M13_3'",
     "output_type": "error",
     "traceback": [
      "\u001b[0;31m---------------------------------------------------------------------------\u001b[0m",
      "\u001b[0;31mIOError\u001b[0m                                   Traceback (most recent call last)",
      "\u001b[0;32m<ipython-input-5-1a6d72d0d0ee>\u001b[0m in \u001b[0;36m<module>\u001b[0;34m()\u001b[0m\n\u001b[1;32m     10\u001b[0m     \u001b[0;32mfor\u001b[0m \u001b[0mf\u001b[0m \u001b[0;32min\u001b[0m \u001b[0mos\u001b[0m\u001b[0;34m.\u001b[0m\u001b[0mlistdir\u001b[0m\u001b[0;34m(\u001b[0m\u001b[0mos\u001b[0m\u001b[0;34m.\u001b[0m\u001b[0mcurdir\u001b[0m \u001b[0;34m+\u001b[0m \u001b[0;34m'/DDM/Fits/'\u001b[0m\u001b[0;34m)\u001b[0m\u001b[0;34m:\u001b[0m\u001b[0;34m\u001b[0m\u001b[0m\n\u001b[1;32m     11\u001b[0m         \u001b[0;32mif\u001b[0m \u001b[0;34m\"PMT_%s_\"\u001b[0m\u001b[0;34m%\u001b[0m\u001b[0mmodel\u001b[0m \u001b[0;32min\u001b[0m \u001b[0mf\u001b[0m \u001b[0;32mand\u001b[0m \u001b[0;34m'light'\u001b[0m \u001b[0;32mnot\u001b[0m \u001b[0;32min\u001b[0m \u001b[0mf\u001b[0m\u001b[0;34m:\u001b[0m\u001b[0;34m\u001b[0m\u001b[0m\n\u001b[0;32m---> 12\u001b[0;31m             \u001b[0mfit\u001b[0m\u001b[0;34m.\u001b[0m\u001b[0mappend\u001b[0m\u001b[0;34m(\u001b[0m\u001b[0mhddm\u001b[0m\u001b[0;34m.\u001b[0m\u001b[0mload\u001b[0m\u001b[0;34m(\u001b[0m\u001b[0;34m\"DDM/Fits/%s\"\u001b[0m\u001b[0;34m%\u001b[0m\u001b[0mf\u001b[0m\u001b[0;34m)\u001b[0m\u001b[0;34m)\u001b[0m\u001b[0;34m\u001b[0m\u001b[0m\n\u001b[0m\u001b[1;32m     13\u001b[0m     \u001b[0mfit\u001b[0m \u001b[0;34m=\u001b[0m \u001b[0mutils\u001b[0m\u001b[0;34m.\u001b[0m\u001b[0mconcat_models\u001b[0m\u001b[0;34m(\u001b[0m\u001b[0mfit\u001b[0m\u001b[0;34m)\u001b[0m\u001b[0;34m\u001b[0m\u001b[0m\n\u001b[1;32m     14\u001b[0m \u001b[0;34m\u001b[0m\u001b[0m\n",
      "\u001b[0;32m/home/gabriel/anaconda3/envs/hddm/lib/python2.7/site-packages/kabuki/utils.pyc\u001b[0m in \u001b[0;36mload\u001b[0;34m(fname)\u001b[0m\n\u001b[1;32m     21\u001b[0m \u001b[0;34m\u001b[0m\u001b[0m\n\u001b[1;32m     22\u001b[0m     \"\"\"\n\u001b[0;32m---> 23\u001b[0;31m     \u001b[0mmodel\u001b[0m \u001b[0;34m=\u001b[0m \u001b[0mpickle\u001b[0m\u001b[0;34m.\u001b[0m\u001b[0mload\u001b[0m\u001b[0;34m(\u001b[0m\u001b[0mopen\u001b[0m\u001b[0;34m(\u001b[0m\u001b[0mfname\u001b[0m\u001b[0;34m,\u001b[0m \u001b[0;34m'r'\u001b[0m\u001b[0;34m)\u001b[0m\u001b[0;34m)\u001b[0m\u001b[0;34m\u001b[0m\u001b[0m\n\u001b[0m\u001b[1;32m     24\u001b[0m     \u001b[0;32mreturn\u001b[0m \u001b[0mmodel\u001b[0m\u001b[0;34m\u001b[0m\u001b[0m\n\u001b[1;32m     25\u001b[0m \u001b[0;34m\u001b[0m\u001b[0m\n",
      "\u001b[0;32m/home/gabriel/anaconda3/envs/hddm/lib/python2.7/pickle.pyc\u001b[0m in \u001b[0;36mload\u001b[0;34m(file)\u001b[0m\n\u001b[1;32m   1382\u001b[0m \u001b[0;34m\u001b[0m\u001b[0m\n\u001b[1;32m   1383\u001b[0m \u001b[0;32mdef\u001b[0m \u001b[0mload\u001b[0m\u001b[0;34m(\u001b[0m\u001b[0mfile\u001b[0m\u001b[0;34m)\u001b[0m\u001b[0;34m:\u001b[0m\u001b[0;34m\u001b[0m\u001b[0m\n\u001b[0;32m-> 1384\u001b[0;31m     \u001b[0;32mreturn\u001b[0m \u001b[0mUnpickler\u001b[0m\u001b[0;34m(\u001b[0m\u001b[0mfile\u001b[0m\u001b[0;34m)\u001b[0m\u001b[0;34m.\u001b[0m\u001b[0mload\u001b[0m\u001b[0;34m(\u001b[0m\u001b[0;34m)\u001b[0m\u001b[0;34m\u001b[0m\u001b[0m\n\u001b[0m\u001b[1;32m   1385\u001b[0m \u001b[0;34m\u001b[0m\u001b[0m\n\u001b[1;32m   1386\u001b[0m \u001b[0;32mdef\u001b[0m \u001b[0mloads\u001b[0m\u001b[0;34m(\u001b[0m\u001b[0mstr\u001b[0m\u001b[0;34m)\u001b[0m\u001b[0;34m:\u001b[0m\u001b[0;34m\u001b[0m\u001b[0m\n",
      "\u001b[0;32m/home/gabriel/anaconda3/envs/hddm/lib/python2.7/pickle.pyc\u001b[0m in \u001b[0;36mload\u001b[0;34m(self)\u001b[0m\n\u001b[1;32m    862\u001b[0m             \u001b[0;32mwhile\u001b[0m \u001b[0;36m1\u001b[0m\u001b[0;34m:\u001b[0m\u001b[0;34m\u001b[0m\u001b[0m\n\u001b[1;32m    863\u001b[0m                 \u001b[0mkey\u001b[0m \u001b[0;34m=\u001b[0m \u001b[0mread\u001b[0m\u001b[0;34m(\u001b[0m\u001b[0;36m1\u001b[0m\u001b[0;34m)\u001b[0m\u001b[0;34m\u001b[0m\u001b[0m\n\u001b[0;32m--> 864\u001b[0;31m                 \u001b[0mdispatch\u001b[0m\u001b[0;34m[\u001b[0m\u001b[0mkey\u001b[0m\u001b[0;34m]\u001b[0m\u001b[0;34m(\u001b[0m\u001b[0mself\u001b[0m\u001b[0;34m)\u001b[0m\u001b[0;34m\u001b[0m\u001b[0m\n\u001b[0m\u001b[1;32m    865\u001b[0m         \u001b[0;32mexcept\u001b[0m \u001b[0m_Stop\u001b[0m\u001b[0;34m,\u001b[0m \u001b[0mstopinst\u001b[0m\u001b[0;34m:\u001b[0m\u001b[0;34m\u001b[0m\u001b[0m\n\u001b[1;32m    866\u001b[0m             \u001b[0;32mreturn\u001b[0m \u001b[0mstopinst\u001b[0m\u001b[0;34m.\u001b[0m\u001b[0mvalue\u001b[0m\u001b[0;34m\u001b[0m\u001b[0m\n",
      "\u001b[0;32m/home/gabriel/anaconda3/envs/hddm/lib/python2.7/pickle.pyc\u001b[0m in \u001b[0;36mload_build\u001b[0;34m(self)\u001b[0m\n\u001b[1;32m   1221\u001b[0m         \u001b[0msetstate\u001b[0m \u001b[0;34m=\u001b[0m \u001b[0mgetattr\u001b[0m\u001b[0;34m(\u001b[0m\u001b[0minst\u001b[0m\u001b[0;34m,\u001b[0m \u001b[0;34m\"__setstate__\"\u001b[0m\u001b[0;34m,\u001b[0m \u001b[0mNone\u001b[0m\u001b[0;34m)\u001b[0m\u001b[0;34m\u001b[0m\u001b[0m\n\u001b[1;32m   1222\u001b[0m         \u001b[0;32mif\u001b[0m \u001b[0msetstate\u001b[0m\u001b[0;34m:\u001b[0m\u001b[0;34m\u001b[0m\u001b[0m\n\u001b[0;32m-> 1223\u001b[0;31m             \u001b[0msetstate\u001b[0m\u001b[0;34m(\u001b[0m\u001b[0mstate\u001b[0m\u001b[0;34m)\u001b[0m\u001b[0;34m\u001b[0m\u001b[0m\n\u001b[0m\u001b[1;32m   1224\u001b[0m             \u001b[0;32mreturn\u001b[0m\u001b[0;34m\u001b[0m\u001b[0m\n\u001b[1;32m   1225\u001b[0m         \u001b[0mslotstate\u001b[0m \u001b[0;34m=\u001b[0m \u001b[0mNone\u001b[0m\u001b[0;34m\u001b[0m\u001b[0m\n",
      "\u001b[0;32m/home/gabriel/anaconda3/envs/hddm/lib/python2.7/site-packages/hddm/models/hddm_regression.pyc\u001b[0m in \u001b[0;36m__setstate__\u001b[0;34m(self, d)\u001b[0m\n\u001b[1;32m    222\u001b[0m         \u001b[0;32mfor\u001b[0m \u001b[0mmodel\u001b[0m \u001b[0;32min\u001b[0m \u001b[0md\u001b[0m\u001b[0;34m[\u001b[0m\u001b[0;34m'model_descrs'\u001b[0m\u001b[0;34m]\u001b[0m\u001b[0;34m:\u001b[0m\u001b[0;34m\u001b[0m\u001b[0m\n\u001b[1;32m    223\u001b[0m             \u001b[0mmodel\u001b[0m\u001b[0;34m[\u001b[0m\u001b[0;34m'link_func'\u001b[0m\u001b[0;34m]\u001b[0m \u001b[0;34m=\u001b[0m \u001b[0;32mlambda\u001b[0m \u001b[0mx\u001b[0m\u001b[0;34m:\u001b[0m \u001b[0mx\u001b[0m\u001b[0;34m\u001b[0m\u001b[0m\n\u001b[0;32m--> 224\u001b[0;31m         \u001b[0msuper\u001b[0m\u001b[0;34m(\u001b[0m\u001b[0mHDDMRegressor\u001b[0m\u001b[0;34m,\u001b[0m \u001b[0mself\u001b[0m\u001b[0;34m)\u001b[0m\u001b[0;34m.\u001b[0m\u001b[0m__setstate__\u001b[0m\u001b[0;34m(\u001b[0m\u001b[0md\u001b[0m\u001b[0;34m)\u001b[0m\u001b[0;34m\u001b[0m\u001b[0m\n\u001b[0m\u001b[1;32m    225\u001b[0m \u001b[0;34m\u001b[0m\u001b[0m\n\u001b[1;32m    226\u001b[0m     \u001b[0;32mdef\u001b[0m \u001b[0m_create_wfpt_knode\u001b[0m\u001b[0;34m(\u001b[0m\u001b[0mself\u001b[0m\u001b[0;34m,\u001b[0m \u001b[0mknodes\u001b[0m\u001b[0;34m)\u001b[0m\u001b[0;34m:\u001b[0m\u001b[0;34m\u001b[0m\u001b[0m\n",
      "\u001b[0;32m/home/gabriel/anaconda3/envs/hddm/lib/python2.7/site-packages/hddm/models/base.pyc\u001b[0m in \u001b[0;36m__setstate__\u001b[0;34m(self, d)\u001b[0m\n\u001b[1;32m    697\u001b[0m     \u001b[0;32mdef\u001b[0m \u001b[0m__setstate__\u001b[0m\u001b[0;34m(\u001b[0m\u001b[0mself\u001b[0m\u001b[0;34m,\u001b[0m \u001b[0md\u001b[0m\u001b[0;34m)\u001b[0m\u001b[0;34m:\u001b[0m\u001b[0;34m\u001b[0m\u001b[0m\n\u001b[1;32m    698\u001b[0m         \u001b[0mself\u001b[0m\u001b[0;34m.\u001b[0m\u001b[0mwfpt_class\u001b[0m \u001b[0;34m=\u001b[0m \u001b[0mhddm\u001b[0m\u001b[0;34m.\u001b[0m\u001b[0mlikelihoods\u001b[0m\u001b[0;34m.\u001b[0m\u001b[0mgenerate_wfpt_stochastic_class\u001b[0m\u001b[0;34m(\u001b[0m\u001b[0md\u001b[0m\u001b[0;34m[\u001b[0m\u001b[0;34m'wiener_params'\u001b[0m\u001b[0;34m]\u001b[0m\u001b[0;34m,\u001b[0m \u001b[0mcdf_range\u001b[0m\u001b[0;34m=\u001b[0m\u001b[0md\u001b[0m\u001b[0;34m[\u001b[0m\u001b[0;34m'cdf_range'\u001b[0m\u001b[0;34m]\u001b[0m\u001b[0;34m)\u001b[0m\u001b[0;34m\u001b[0m\u001b[0m\n\u001b[0;32m--> 699\u001b[0;31m         \u001b[0msuper\u001b[0m\u001b[0;34m(\u001b[0m\u001b[0mHDDMBase\u001b[0m\u001b[0;34m,\u001b[0m \u001b[0mself\u001b[0m\u001b[0;34m)\u001b[0m\u001b[0;34m.\u001b[0m\u001b[0m__setstate__\u001b[0m\u001b[0;34m(\u001b[0m\u001b[0md\u001b[0m\u001b[0;34m)\u001b[0m\u001b[0;34m\u001b[0m\u001b[0m\n\u001b[0m\u001b[1;32m    700\u001b[0m \u001b[0;34m\u001b[0m\u001b[0m\n\u001b[1;32m    701\u001b[0m     \u001b[0;32mdef\u001b[0m \u001b[0m_create_wfpt_parents_dict\u001b[0m\u001b[0;34m(\u001b[0m\u001b[0mself\u001b[0m\u001b[0;34m,\u001b[0m \u001b[0mknodes\u001b[0m\u001b[0;34m)\u001b[0m\u001b[0;34m:\u001b[0m\u001b[0;34m\u001b[0m\u001b[0m\n",
      "\u001b[0;32m/home/gabriel/anaconda3/envs/hddm/lib/python2.7/site-packages/kabuki/hierarchical.pyc\u001b[0m in \u001b[0;36m__setstate__\u001b[0;34m(self, d)\u001b[0m\n\u001b[1;32m    394\u001b[0m \u001b[0;34m\u001b[0m\u001b[0m\n\u001b[1;32m    395\u001b[0m         \u001b[0;32mif\u001b[0m \u001b[0mself\u001b[0m\u001b[0;34m.\u001b[0m\u001b[0msampled\u001b[0m\u001b[0;34m:\u001b[0m\u001b[0;34m\u001b[0m\u001b[0m\n\u001b[0;32m--> 396\u001b[0;31m             \u001b[0mself\u001b[0m\u001b[0;34m.\u001b[0m\u001b[0mload_db\u001b[0m\u001b[0;34m(\u001b[0m\u001b[0md\u001b[0m\u001b[0;34m[\u001b[0m\u001b[0;34m'dbname'\u001b[0m\u001b[0;34m]\u001b[0m\u001b[0;34m,\u001b[0m \u001b[0mdb\u001b[0m\u001b[0;34m=\u001b[0m\u001b[0md\u001b[0m\u001b[0;34m[\u001b[0m\u001b[0;34m'db'\u001b[0m\u001b[0;34m]\u001b[0m\u001b[0;34m)\u001b[0m\u001b[0;34m\u001b[0m\u001b[0m\n\u001b[0m\u001b[1;32m    397\u001b[0m             \u001b[0mself\u001b[0m\u001b[0;34m.\u001b[0m\u001b[0mgen_stats\u001b[0m\u001b[0;34m(\u001b[0m\u001b[0;34m)\u001b[0m\u001b[0;34m\u001b[0m\u001b[0m\n\u001b[1;32m    398\u001b[0m         \u001b[0;32melse\u001b[0m\u001b[0;34m:\u001b[0m\u001b[0;34m\u001b[0m\u001b[0m\n",
      "\u001b[0;32m/home/gabriel/anaconda3/envs/hddm/lib/python2.7/site-packages/kabuki/hierarchical.pyc\u001b[0m in \u001b[0;36mload_db\u001b[0;34m(self, dbname, verbose, db)\u001b[0m\n\u001b[1;32m    820\u001b[0m \u001b[0;34m\u001b[0m\u001b[0m\n\u001b[1;32m    821\u001b[0m         \u001b[0;31m# Open database\u001b[0m\u001b[0;34m\u001b[0m\u001b[0;34m\u001b[0m\u001b[0m\n\u001b[0;32m--> 822\u001b[0;31m         \u001b[0mdb\u001b[0m \u001b[0;34m=\u001b[0m \u001b[0mdb_loader\u001b[0m\u001b[0;34m(\u001b[0m\u001b[0mdbname\u001b[0m\u001b[0;34m)\u001b[0m\u001b[0;34m\u001b[0m\u001b[0m\n\u001b[0m\u001b[1;32m    823\u001b[0m \u001b[0;34m\u001b[0m\u001b[0m\n\u001b[1;32m    824\u001b[0m         \u001b[0;31m# Create mcmc instance reading from the opened database\u001b[0m\u001b[0;34m\u001b[0m\u001b[0;34m\u001b[0m\u001b[0m\n",
      "\u001b[0;32m/home/gabriel/anaconda3/envs/hddm/lib/python2.7/site-packages/pymc/database/pickle.pyc\u001b[0m in \u001b[0;36mload\u001b[0;34m(filename)\u001b[0m\n\u001b[1;32m     80\u001b[0m     \u001b[0mReturn\u001b[0m \u001b[0ma\u001b[0m \u001b[0mDatabase\u001b[0m \u001b[0minstance\u001b[0m\u001b[0;34m.\u001b[0m\u001b[0;34m\u001b[0m\u001b[0m\n\u001b[1;32m     81\u001b[0m     \"\"\"\n\u001b[0;32m---> 82\u001b[0;31m     \u001b[0mfile\u001b[0m \u001b[0;34m=\u001b[0m \u001b[0mopen\u001b[0m\u001b[0;34m(\u001b[0m\u001b[0mfilename\u001b[0m\u001b[0;34m,\u001b[0m \u001b[0;34m'rb'\u001b[0m\u001b[0;34m)\u001b[0m\u001b[0;34m\u001b[0m\u001b[0m\n\u001b[0m\u001b[1;32m     83\u001b[0m     \u001b[0mcontainer\u001b[0m \u001b[0;34m=\u001b[0m \u001b[0mstd_pickle\u001b[0m\u001b[0;34m.\u001b[0m\u001b[0mload\u001b[0m\u001b[0;34m(\u001b[0m\u001b[0mfile\u001b[0m\u001b[0;34m)\u001b[0m\u001b[0;34m\u001b[0m\u001b[0m\n\u001b[1;32m     84\u001b[0m     \u001b[0mfile\u001b[0m\u001b[0;34m.\u001b[0m\u001b[0mclose\u001b[0m\u001b[0;34m(\u001b[0m\u001b[0;34m)\u001b[0m\u001b[0;34m\u001b[0m\u001b[0m\n",
      "\u001b[0;31mIOError\u001b[0m: [Errno 2] No such file or directory: 'DDM/traces/db_reg_PMT_M13_3'"
     ]
    }
   ],
   "source": [
    "PMTdata_F1 = PMTdata[PMTdata.FC == \"low\"]\n",
    "PMTdata_F2 = PMTdata[PMTdata.FC == \"high\"]\n",
    "\n",
    "DIC = []\n",
    "BPIC = []\n",
    "\n",
    "for model in [\"M13\"]:#\"M1\",\"M2\",\"M3\",\"M4\",\"M5\",\"M6\",\"M7\",\"M8\",\"M9\",\"M10\",\"M11\",\"M12\",\"M13\",\"M14\",\"M15\",\"M16\"]:\n",
    "    print(\"________________________________\\n Model %s : \\n\"%model)\n",
    "    fit = []\n",
    "    for f in os.listdir(os.curdir + '/DDM/Fits/'):\n",
    "        if \"PMT_%s_\"%model in f and 'light' not in f:\n",
    "            fit.append(hddm.load(\"DDM/Fits/%s\"%f))\n",
    "    fit = utils.concat_models(fit)\n",
    "    \n",
    "    generated_data_file = 'simulated_data_PMTfit_%s.csv'%model\n",
    "    if generated_data_file not in os.listdir(os.curdir+'/DDM/QPplot/'):\n",
    "        gen_PMT_data = generate_predictions(fit, os.curdir+'/DDM/QPplot/%s'%generated_data_file, n_samples=100)\n",
    "    else : \n",
    "        gen_PMT_data = pd.read_csv('DDM/QPplot/%s'%generated_data_file)\n",
    "    \n",
    "    DIC.append(fit.dic)\n",
    "    BPIC.append(fit.mc.BPIC)\n",
    "    \n",
    "    print(\"DIC %s = %f \\n\"%(model, DIC[-1]))\n",
    "    print(\"BPIC %s = %f \\n\"%(model, BPIC[-1]))\n",
    "    \n",
    "    f = open(\"DDM/DIC_PMT.txt\", \"a\")\n",
    "    f.write(\"%s : %s \\n\"%(model, DIC[-1]))\n",
    "    f.close()\n",
    "    \n",
    "    f = open(\"DDM/BPIC_PMT.txt\", \"a\")\n",
    "    f.write(\"%s : %s \\n \"%(model, BPIC[-1]))\n",
    "    f.close()\n",
    "    \n",
    "    gen_PMT_data_F1 = gen_PMT_data[gen_PMT_data.FC == \"low\"]\n",
    "    QPplot(PMTdata_F1, gen_PMT_data_F1, 'QPplot_PMT_F1_%s'%model)\n",
    "    plt.show()\n",
    "    gen_PMT_data_F2 = gen_PMT_data[gen_PMT_data.FC == \"high\"]\n",
    "    QPplot(PMTdata_F2, gen_PMT_data_F2, 'QPplot_PMT_F2_%s'%model)\n",
    "    plt.show()\n",
    "    gc.collect()"
   ]
  },
  {
   "cell_type": "code",
   "execution_count": null,
   "metadata": {},
   "outputs": [],
   "source": []
  }
 ],
 "metadata": {
  "kernelspec": {
   "display_name": "Python 2",
   "language": "python",
   "name": "python2"
  },
  "language_info": {
   "codemirror_mode": {
    "name": "ipython",
    "version": 2
   },
   "file_extension": ".py",
   "mimetype": "text/x-python",
   "name": "python",
   "nbconvert_exporter": "python",
   "pygments_lexer": "ipython2",
   "version": "2.7.15"
  }
 },
 "nbformat": 4,
 "nbformat_minor": 4
}
