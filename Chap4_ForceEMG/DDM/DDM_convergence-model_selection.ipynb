{
 "cells": [
  {
   "cell_type": "code",
   "execution_count": 1,
   "metadata": {},
   "outputs": [
    {
     "name": "stderr",
     "output_type": "stream",
     "text": [
      "/home/gweindel/anaconda3/envs/hddm/lib/python2.7/site-packages/IPython/parallel.py:13: ShimWarning: The `IPython.parallel` package has been deprecated since IPython 4.0. You should import from ipyparallel instead.\n",
      "  \"You should import from ipyparallel instead.\", ShimWarning)\n"
     ]
    }
   ],
   "source": [
    "import matplotlib.pyplot as plt\n",
    "import numpy as np\n",
    "import glob,os\n",
    "import pandas as pd\n",
    "import hddm\n",
    "import kabuki\n",
    "\n",
    "\n",
    "plt.style.use('seaborn-ticks')"
   ]
  },
  {
   "cell_type": "markdown",
   "metadata": {},
   "source": [
    "## Convergence behavioral models"
   ]
  },
  {
   "cell_type": "code",
   "execution_count": 2,
   "metadata": {},
   "outputs": [],
   "source": [
    "MS_names = [\"PMT_M1\",\"PMT_M2\",\"PMT_M3\",\"PMT_M4\",\"PMT_M5\",\"PMT_M6\",\"PMT_M7\",\n",
    "            \"PMT_M8\",\"PMT_M9\",\"PMT_M10\",\"PMT_M11\",\"PMT_M12\",\"PMT_M13\",\"PMT_M14\",\n",
    "            \"PMT_M15\",\"PMT_M16\"]#For easiness I only plot diagnostics for winning model but it can be expanded to all models with the list below :\n",
    "#[\"Exp1_depends_M1\",\"Exp1_depends_M2\",\"Exp1_depends_M3\",\"Exp1_depends_M4\",\"Exp1_depends_M5\",\"Exp1_depends_M6\",\n",
    "#   \"Exp2_depends_M1\",\"Exp2_depends_M2\",\"Exp2_depends_M3\",\"Exp2_depends_M4\",\"Exp2_depends_M5\",\"Exp2_depends_M6\"]"
   ]
  },
  {
   "cell_type": "code",
   "execution_count": 3,
   "metadata": {},
   "outputs": [],
   "source": [
    "os.chdir('../')\n",
    "for name in MS_names:\n",
    "\n",
    "    model = []\n",
    "    for file in os.listdir(\"DDM/Fits\"):\n",
    "        if name in file and 'light' not in file and file not in os.listdir('DDM/Diagnostic_plots/'):\n",
    "            print('__________________________________________________________________\\n')\n",
    "            print(file)\n",
    "            m = hddm.load(\"DDM/Fits/%s\"%file)\n",
    "            os.chdir('DDM/Diagnostic_plots/')\n",
    "            ! mkdir $file\n",
    "            os.chdir('%s'%file)\n",
    "            m.plot_posteriors(save=True,  plot_subjs=False)\n",
    "            plt.close()\n",
    "            os.chdir('../../../')\n",
    "            #model.append(m)\n",
    "    #rhat = kabuki.analyze.gelman_rubin(model) \n",
    "    #model = kabuki.utils.concat_models(model)\n",
    "    #os.chdir(\"DDM/Diagnostic_plots/\")\n",
    "    #! mkdir $name\n",
    "    #os.chdir(\"%s\"%name)\n",
    "    #g = model.plot_posteriors(save=True,  plot_subjs=False)#plot_subjs = True for subj parameters\n",
    "    #plt.close()\n",
    "    #plt.hist(rhat.values())\n",
    "    #plt.savefig('%s_rhat_dist.png'%name)\n",
    "    #plt.close()\n",
    "    #print('Rhat : ')\n",
    "    #print(np.max(rhat.values()))\n",
    "    #model.plot_posterior_quantiles(figsize=(40,20), columns=7, data_plot_kwargs = {'color':'k', 'marker':'o'}, save=True)\n",
    "    #plt.close()\n",
    "    #os.chdir(\"../../\")"
   ]
  },
  {
   "cell_type": "code",
   "execution_count": null,
   "metadata": {},
   "outputs": [],
   "source": []
  }
 ],
 "metadata": {
  "kernelspec": {
   "display_name": "Python 2",
   "language": "python",
   "name": "python2"
  },
  "language_info": {
   "codemirror_mode": {
    "name": "ipython",
    "version": 2
   },
   "file_extension": ".py",
   "mimetype": "text/x-python",
   "name": "python",
   "nbconvert_exporter": "python",
   "pygments_lexer": "ipython2",
   "version": "2.7.15"
  }
 },
 "nbformat": 4,
 "nbformat_minor": 2
}
