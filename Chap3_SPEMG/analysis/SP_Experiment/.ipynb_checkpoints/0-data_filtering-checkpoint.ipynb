{
 "cells": [
  {
   "cell_type": "code",
   "execution_count": 1,
   "metadata": {},
   "outputs": [],
   "source": [
    "import pandas as pd\n",
    "import numpy as np"
   ]
  },
  {
   "cell_type": "code",
   "execution_count": 2,
   "metadata": {},
   "outputs": [],
   "source": [
    "data = pd.read_csv('../../data/EMG/clean_df.csv')\n",
    "data = data[(data.rt < 2000)]\n",
    "data = data[(data.trialType == 'SA')].reset_index(drop=True)\n",
    "data = data[np.isfinite(data.prmt)]\n"
   ]
  },
  {
   "cell_type": "code",
   "execution_count": 3,
   "metadata": {},
   "outputs": [
    {
     "data": {
      "text/plain": [
       "participant  SAT       p_right\n",
       "S10          speed     70         104\n",
       "                       50         107\n",
       "S8           accuracy  30         108\n",
       "S10          speed     30         109\n",
       "S8           accuracy  70         109\n",
       "                       50         116\n",
       "             speed     30         123\n",
       "S9           accuracy  70         127\n",
       "                       30         136\n",
       "                       50         148\n",
       "S19          speed     30         149\n",
       "                       50         149\n",
       "S8           speed     50         153\n",
       "S14          accuracy  30         155\n",
       "S18          accuracy  30         162\n",
       "S10          accuracy  70         167\n",
       "S18          accuracy  50         169\n",
       "S12          speed     30         171\n",
       "S10          accuracy  50         173\n",
       "S14          speed     30         173\n",
       "S12          accuracy  30         173\n",
       "S14          accuracy  70         173\n",
       "                       50         173\n",
       "             speed     50         175\n",
       "S10          accuracy  30         176\n",
       "S18          speed     30         177\n",
       "S14          speed     70         178\n",
       "S12          speed     70         179\n",
       "S8           speed     70         181\n",
       "S15          accuracy  70         184\n",
       "S19          speed     70         185\n",
       "S18          speed     50         188\n",
       "S12          accuracy  50         190\n",
       "S3           accuracy  50         191\n",
       "S15          speed     70         191\n",
       "                       30         191\n",
       "S12          accuracy  70         191\n",
       "S3           accuracy  70         192\n",
       "S11          accuracy  30         193\n",
       "S9           speed     30         194\n",
       "S12          speed     50         194\n",
       "S18          speed     70         195\n",
       "S3           accuracy  30         197\n",
       "S11          accuracy  50         199\n",
       "S15          accuracy  30         200\n",
       "S16          speed     30         201\n",
       "                       70         201\n",
       "S15          accuracy  50         202\n",
       "S7           speed     30         207\n",
       "S9           speed     70         207\n",
       "Name: participant, dtype: int64"
      ]
     },
     "execution_count": 3,
     "metadata": {},
     "output_type": "execute_result"
    }
   ],
   "source": [
    "data.groupby(['participant','SAT','p_right']).participant.count().sort_values().head(50)"
   ]
  },
  {
   "cell_type": "code",
   "execution_count": 4,
   "metadata": {},
   "outputs": [
    {
     "data": {
      "text/plain": [
       "<AxesSubplot:>"
      ]
     },
     "execution_count": 4,
     "metadata": {},
     "output_type": "execute_result"
    },
    {
     "data": {
      "image/png": "[encoded data removed]",
      "text/plain": [
       "<Figure size 432x288 with 1 Axes>"
      ]
     },
     "metadata": {
      "needs_background": "light"
     },
     "output_type": "display_data"
    }
   ],
   "source": [
    "data.groupby(['participant','SAT','p_right']).rt.count().hist(bins=50)\n"
   ]
  },
  {
   "cell_type": "code",
   "execution_count": 5,
   "metadata": {},
   "outputs": [
    {
     "data": {
      "text/plain": [
       "0.8269230769230769"
      ]
     },
     "execution_count": 5,
     "metadata": {},
     "output_type": "execute_result"
    }
   ],
   "source": [
    "data.response.mean()"
   ]
  },
  {
   "cell_type": "code",
   "execution_count": 6,
   "metadata": {},
   "outputs": [],
   "source": [
    "data.to_csv('data_modelling_ready.csv')"
   ]
  }
 ],
 "metadata": {
  "kernelspec": {
   "display_name": "Python 3",
   "language": "python",
   "name": "python3"
  },
  "language_info": {
   "codemirror_mode": {
    "name": "ipython",
    "version": 3
   },
   "file_extension": ".py",
   "mimetype": "text/x-python",
   "name": "python",
   "nbconvert_exporter": "python",
   "pygments_lexer": "ipython3",
   "version": "3.8.5"
  }
 },
 "nbformat": 4,
 "nbformat_minor": 4
}
